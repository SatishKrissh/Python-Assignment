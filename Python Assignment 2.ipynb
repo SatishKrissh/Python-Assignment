{
 "cells": [
  {
   "cell_type": "code",
   "execution_count": 25,
   "metadata": {},
   "outputs": [
    {
     "name": "stdout",
     "output_type": "stream",
     "text": [
      "enter no:of rows 5\n",
      "*  \n",
      "* *  \n",
      "* * *  \n",
      "* * * *  \n",
      "* * * * *  \n",
      "* * * *  \n",
      "* * *  \n",
      "* *  \n",
      "*  \n",
      " \n",
      " \n"
     ]
    }
   ],
   "source": [
    "rows = int(input(\"enter no:of rows \"))\n",
    "for i in range(0,rows):\n",
    "    for j in range(0,i+1):\n",
    "        print(\"*\", end =\" \")\n",
    "    print(\" \")\n",
    "for i in range(0, rows+1):\n",
    "    for j in range(0, rows-1):\n",
    "        print(\"*\", end=\" \")\n",
    "    rows -= 1\n",
    "    print(\" \")"
   ]
  },
  {
   "cell_type": "code",
   "execution_count": 27,
   "metadata": {},
   "outputs": [
    {
     "name": "stdout",
     "output_type": "stream",
     "text": [
      "Enter a string: satish\n",
      "hsitas \n"
     ]
    }
   ],
   "source": [
    "string = input(\"Enter a string: \")\n",
    "rev_string = \" \"\n",
    "for  i in string:\n",
    "    rev_string = i + rev_string\n",
    "print(rev_string)"
   ]
  }
 ],
 "metadata": {
  "kernelspec": {
   "display_name": "Python 3",
   "language": "python",
   "name": "python3"
  },
  "language_info": {
   "codemirror_mode": {
    "name": "ipython",
    "version": 3
   },
   "file_extension": ".py",
   "mimetype": "text/x-python",
   "name": "python",
   "nbconvert_exporter": "python",
   "pygments_lexer": "ipython3",
   "version": "3.7.6"
  }
 },
 "nbformat": 4,
 "nbformat_minor": 4
}
